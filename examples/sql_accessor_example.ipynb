{
    "cells": [
     {
      "cell_type": "markdown",
      "metadata": {},
      "source": [
       "# SuperPandas SQL Accessor Integration Example\n",
       "\n",
       "This notebook demonstrates how to use the SQL accessor to query pandas DataFrames using SQL syntax, both with and without the SuperDataFrame functionality.\n",
       "\n",
       "## Setup\n",
       "\n",
       "First, let's import the necessary libraries:"
      ]
     },
     {
      "cell_type": "code",
      "execution_count": null,
      "metadata": {},
      "outputs": [],
      "source": [
       "import superpandas as spd  # This registers the SQL accessor\n",
       "import pandas as pd\n",
       "import numpy as np"
      ]
     },
     {
      "cell_type": "markdown",
      "metadata": {},
      "source": [
       "## Basic SQL Accessor Examples\n",
       "\n",
       "Let's start with some basic SQL query examples:"
      ]
     },
     {
      "cell_type": "code",
      "execution_count": null,
      "metadata": {},
      "outputs": [],
      "source": [
       "# Create sample DataFrames\n",
       "employees = pd.DataFrame({\n",
       "    \"id\": [1, 2, 3, 4, 5],\n",
       "    \"name\": [\"Alice\", \"Bob\", \"Charlie\", \"Diana\", \"Eve\"],\n",
       "    \"age\": [25, 30, 35, 28, 32],\n",
       "    \"department\": [\"Engineering\", \"Sales\", \"Engineering\", \"Marketing\", \"Sales\"],\n",
       "    \"salary\": [80000, 70000, 90000, 75000, 72000]\n",
       "})\n",
       "\n",
       "departments = pd.DataFrame({\n",
       "    \"dept_id\": [1, 2, 3],\n",
       "    \"name\": [\"Engineering\", \"Sales\", \"Marketing\"],\n",
       "    \"budget\": [500000, 300000, 200000]\n",
       "})\n",
       "\n",
       "print(\"Employees DataFrame:\")\n",
       "display(employees)\n",
       "print(\"\\nDepartments DataFrame:\")\n",
       "display(departments)"
      ]
     },
     {
      "cell_type": "markdown",
      "metadata": {},
      "source": [
       "### 1. Basic Query - Employees over 30"
      ]
     },
     {
      "cell_type": "code",
      "execution_count": null,
      "metadata": {},
      "outputs": [],
      "source": [
       "result = employees.sql.query(\"SELECT * FROM df WHERE age > 30\")\n",
       "print(\"Employees over 30:\")\n",
       "display(result)"
      ]
     },
     {
      "cell_type": "markdown",
      "metadata": {},
      "source": [
       "### 2. Aggregation - Average Salary by Department"
      ]
     },
     {
      "cell_type": "code",
      "execution_count": null,
      "metadata": {},
      "outputs": [],
      "source": [
       "result = employees.sql.query(\"\"\"\n",
       "    SELECT department, AVG(salary) as avg_salary, COUNT(*) as count\n",
       "    FROM df \n",
       "    GROUP BY department\n",
       "    ORDER BY avg_salary DESC\n",
       "\"\"\")\n",
       "print(\"Average salary by department:\")\n",
       "display(result)"
      ]
     },
     {
      "cell_type": "markdown",
      "metadata": {},
      "source": [
       "### 3. Join Query - Employees with Department Budgets"
      ]
     },
     {
      "cell_type": "code",
      "execution_count": null,
      "metadata": {},
      "outputs": [],
      "source": [
       "env = {\"departments\": departments}\n",
       "result = employees.sql.query(\"\"\"\n",
       "    SELECT \n",
       "        e.name,\n",
       "        e.department,\n",
       "        e.salary,\n",
       "        d.budget,\n",
       "        ROUND(e.salary * 100.0 / d.budget, 2) as salary_percent\n",
       "    FROM df e\n",
       "    JOIN departments d ON e.department = d.name\n",
       "    ORDER BY salary_percent DESC\n",
       "\"\"\", env=env)\n",
       "print(\"Employees with department budgets:\")\n",
       "display(result)"
      ]
     },
     {
      "cell_type": "markdown",
      "metadata": {},
      "source": [
       "## SuperDataFrame SQL Examples\n",
       "\n",
       "Now let's see how SQL queries work with SuperDataFrames that have rich metadata:"
      ]
     },
     {
      "cell_type": "code",
      "execution_count": null,
      "metadata": {},
      "outputs": [],
      "source": [
       "# Create a SuperDataFrame with metadata\n",
       "sales_data = pd.DataFrame({\n",
       "    \"date\": pd.date_range(\"2023-01-01\", periods=10, freq=\"D\"),\n",
       "    \"product\": [\"A\", \"B\", \"A\", \"C\", \"B\", \"A\", \"C\", \"B\", \"A\", \"C\"],\n",
       "    \"quantity\": [10, 5, 15, 8, 12, 20, 6, 9, 18, 11],\n",
       "    \"price\": [100, 150, 100, 200, 150, 100, 200, 150, 100, 200],\n",
       "    \"region\": [\"North\", \"South\", \"North\", \"East\", \"South\", \"North\", \"East\", \"South\", \"North\", \"East\"]\n",
       "})\n",
       "\n",
       "# Convert to SuperDataFrame with metadata\n",
       "sdf = spd.create_super_dataframe(\n",
       "    df=sales_data,\n",
       "    name=\"daily_sales\",\n",
       "    description=\"Daily sales data with product, quantity, price, and region information\",\n",
       "    column_descriptions={\n",
       "        \"date\": \"Date of the sale\",\n",
       "        \"product\": \"Product identifier (A, B, or C)\",\n",
       "        \"quantity\": \"Number of units sold\",\n",
       "        \"price\": \"Price per unit in USD\",\n",
       "        \"region\": \"Sales region (North, South, East, West)\"\n",
       "    }\n",
       ")\n",
       "\n",
       "print(\"SuperDataFrame metadata:\")\n",
       "print(f\"Name: {sdf.super.name}\")\n",
       "print(f\"Description: {sdf.super.description}\")\n",
       "print(f\"Column descriptions: {sdf.super.column_descriptions}\")\n",
       "\n",
       "print(\"\\nSales Data:\")\n",
       "display(sdf)"
      ]
     },
     {
      "cell_type": "markdown",
      "metadata": {},
      "source": [
       "### 1. Total Revenue by Product"
      ]
     },
     {
      "cell_type": "code",
      "execution_count": null,
      "metadata": {},
      "outputs": [],
      "source": [
       "result = sdf.sql.query(\"\"\"\n",
       "    SELECT \n",
       "        product,\n",
       "        SUM(quantity * price) as total_revenue,\n",
       "        AVG(price) as avg_price,\n",
       "        COUNT(*) as sales_count\n",
       "    FROM df \n",
       "    GROUP BY product\n",
       "    ORDER BY total_revenue DESC\n",
       "\"\"\")\n",
       "print(\"Total revenue by product:\")\n",
       "display(result)"
      ]
     },
     {
      "cell_type": "markdown",
      "metadata": {},
      "source": [
       "### 2. Sales Performance by Region"
      ]
     },
     {
      "cell_type": "code",
      "execution_count": null,
      "metadata": {},
      "outputs": [],
      "source": [
       "result = sdf.sql.query(\"\"\"\n",
       "    SELECT \n",
       "        region,\n",
       "        SUM(quantity * price) as total_revenue,\n",
       "        AVG(quantity) as avg_quantity,\n",
       "        COUNT(*) as transaction_count\n",
       "    FROM df \n",
       "    GROUP BY region\n",
       "    ORDER BY total_revenue DESC\n",
       "\"\"\")\n",
       "print(\"Sales performance by region:\")\n",
       "display(result)"
      ]
     },
     {
      "cell_type": "markdown",
      "metadata": {},
      "source": [
       "### 3. Daily Sales Trend"
      ]
     },
     {
      "cell_type": "code",
      "execution_count": null,
      "metadata": {},
      "outputs": [],
      "source": [
       "result = sdf.sql.query(\"\"\"\n",
       "    SELECT \n",
       "        date,\n",
       "        SUM(quantity * price) as daily_revenue,\n",
       "        COUNT(*) as transactions\n",
       "    FROM df \n",
       "    GROUP BY date\n",
       "    ORDER BY date\n",
       "\"\"\")\n",
       "print(\"Daily sales trend:\")\n",
       "display(result)"
      ]
     },
     {
      "cell_type": "markdown",
      "metadata": {},
      "source": [
       "## Complex SQL Examples\n",
       "\n",
       "Let's explore more complex SQL queries with multiple related tables:"
      ]
     },
     {
      "cell_type": "code",
      "execution_count": null,
      "metadata": {},
      "outputs": [],
      "source": [
       "# Create multiple related DataFrames\n",
       "orders = pd.DataFrame({\n",
       "    \"order_id\": [1, 2, 3, 4, 5, 6],\n",
       "    \"customer_id\": [101, 102, 101, 103, 102, 104],\n",
       "    \"order_date\": pd.date_range(\"2023-01-01\", periods=6, freq=\"D\"),\n",
       "    \"total_amount\": [150, 300, 200, 450, 120, 600]\n",
       "})\n",
       "\n",
       "customers = pd.DataFrame({\n",
       "    \"customer_id\": [101, 102, 103, 104, 105],\n",
       "    \"name\": [\"John\", \"Jane\", \"Bob\", \"Alice\", \"Charlie\"],\n",
       "    \"email\": [\"john@email.com\", \"jane@email.com\", \"bob@email.com\", \"alice@email.com\", \"charlie@email.com\"],\n",
       "    \"join_date\": pd.date_range(\"2022-01-01\", periods=5, freq=\"ME\")\n",
       "})\n",
       "\n",
       "order_items = pd.DataFrame({\n",
       "    \"order_id\": [1, 1, 2, 3, 4, 4, 5, 6, 6],\n",
       "    \"product_id\": [\"P1\", \"P2\", \"P1\", \"P3\", \"P2\", \"P4\", \"P1\", \"P3\", \"P4\"],\n",
       "    \"quantity\": [2, 1, 3, 1, 2, 1, 1, 2, 1],\n",
       "    \"unit_price\": [50, 50, 50, 200, 50, 350, 50, 200, 350]\n",
       "})\n",
       "\n",
       "products = pd.DataFrame({\n",
       "    \"product_id\": [\"P1\", \"P2\", \"P3\", \"P4\"],\n",
       "    \"name\": [\"Widget A\", \"Widget B\", \"Gadget X\", \"Gadget Y\"],\n",
       "    \"category\": [\"Widgets\", \"Widgets\", \"Gadgets\", \"Gadgets\"],\n",
       "    \"cost\": [30, 35, 150, 280]\n",
       "})\n",
       "\n",
       "print(\"Orders DataFrame:\")\n",
       "display(orders)\n",
       "print(\"\\nCustomers DataFrame:\")\n",
       "display(customers)\n",
       "print(\"\\nOrder Items DataFrame:\")\n",
       "display(order_items)\n",
       "print(\"\\nProducts DataFrame:\")\n",
       "display(products)"
      ]
     },
     {
      "cell_type": "markdown",
      "metadata": {},
      "source": [
       "### Complex Query - Customer Purchase Analysis"
      ]
     },
     {
      "cell_type": "code",
      "execution_count": null,
      "metadata": {},
      "outputs": [],
      "source": [
       "env = {\n",
       "    \"customers\": customers,\n",
       "    \"order_items\": order_items,\n",
       "    \"products\": products\n",
       "}\n",
       "\n",
       "result = orders.sql.query(\"\"\"\n",
       "    SELECT \n",
       "        c.name as customer_name,\n",
       "        c.email,\n",
       "        COUNT(DISTINCT o.order_id) as total_orders,\n",
       "        SUM(o.total_amount) as total_spent,\n",
       "        AVG(o.total_amount) as avg_order_value,\n",
       "        STRFTIME('%Y-%m', o.order_date) as order_month,\n",
       "        GROUP_CONCAT(DISTINCT p.category) as categories_purchased\n",
       "    FROM df o\n",
       "    JOIN customers c ON o.customer_id = c.customer_id\n",
       "    JOIN order_items oi ON o.order_id = oi.order_id\n",
       "    JOIN products p ON oi.product_id = p.product_id\n",
       "    GROUP BY c.customer_id, c.name, c.email, STRFTIME('%Y-%m', o.order_date)\n",
       "    ORDER BY total_spent DESC\n",
       "\"\"\", env=env)\n",
       "\n",
       "print(\"Customer purchase analysis:\")\n",
       "display(result)"
      ]
     },
     {
      "cell_type": "markdown",
      "metadata": {},
      "source": [
       "## Advanced SQL Features\n",
       "\n",
       "Let's explore some advanced SQL features available in the SQL accessor:"
      ]
     },
     {
      "cell_type": "code",
      "execution_count": null,
      "metadata": {},
      "outputs": [],
      "source": [
       "# Create a sample DataFrame with different data types\n",
       "sample_df = pd.DataFrame({\n",
       "    \"id\": [1, 2, 3, 4, 5],\n",
       "    \"name\": [\"Alice\", \"Bob\", \"Charlie\", \"Diana\", \"Eve\"],\n",
       "    \"score\": [85.5, 92.3, 78.9, 95.1, 88.7],\n",
       "    \"is_active\": [True, False, True, True, False],\n",
       "    \"created_date\": pd.date_range(\"2023-01-01\", periods=5, freq=\"D\")\n",
       "})\n",
       "\n",
       "print(\"Sample DataFrame:\")\n",
       "display(sample_df)"
      ]
     },
     {
      "cell_type": "markdown",
      "metadata": {},
      "source": [
       "### String Functions and Pattern Matching"
      ]
     },
     {
      "cell_type": "code",
      "execution_count": null,
      "metadata": {},
      "outputs": [],
      "source": [
       "result = sample_df.sql.query(\"\"\"\n",
       "    SELECT \n",
       "        name,\n",
       "        UPPER(name) as upper_name,\n",
       "        LENGTH(name) as name_length,\n",
       "        SUBSTR(name, 1, 3) as name_prefix\n",
       "    FROM df \n",
       "    WHERE name LIKE '%a%'\n",
       "    ORDER BY name_length DESC\n",
       "\"\"\")\n",
       "print(\"String functions and pattern matching:\")\n",
       "display(result)"
      ]
     },
     {
      "cell_type": "markdown",
      "metadata": {},
      "source": [
       "### Date Functions"
      ]
     },
     {
      "cell_type": "code",
      "execution_count": null,
      "metadata": {},
      "outputs": [],
      "source": [
       "result = sample_df.sql.query(\"\"\"\n",
       "    SELECT \n",
       "        name,\n",
       "        created_date,\n",
       "        STRFTIME('%Y-%m', created_date) as year_month,\n",
       "        STRFTIME('%W', created_date) as week_number,\n",
       "        STRFTIME('%w', created_date) as day_of_week\n",
       "    FROM df \n",
       "    ORDER BY created_date\n",
       "\"\"\")\n",
       "print(\"Date functions:\")\n",
       "display(result)"
      ]
     },
     {
      "cell_type": "markdown",
      "metadata": {},
      "source": [
       "### Conditional Logic with CASE Statements"
      ]
     },
     {
      "cell_type": "code",
      "execution_count": null,
      "metadata": {},
      "outputs": [],
      "source": [
       "result = sample_df.sql.query(\"\"\"\n",
       "    SELECT \n",
       "        name,\n",
       "        score,\n",
       "        is_active,\n",
       "        CASE \n",
       "            WHEN score >= 90 THEN 'Excellent'\n",
       "            WHEN score >= 80 THEN 'Good'\n",
       "            WHEN score >= 70 THEN 'Average'\n",
       "            ELSE 'Needs Improvement'\n",
       "        END as grade,\n",
       "        CASE \n",
       "            WHEN is_active = 1 THEN 'Active'\n",
       "            ELSE 'Inactive'\n",
       "        END as status\n",
       "    FROM df \n",
       "    ORDER BY score DESC\n",
       "\"\"\")\n",
       "print(\"Conditional logic with CASE statements:\")\n",
       "display(result)"
      ]
     },
     {
      "cell_type": "markdown",
      "metadata": {},
      "source": [
       "## Error Handling Examples\n",
       "\n",
       "Let's see how the SQL accessor handles various error conditions:"
      ]
     },
     {
      "cell_type": "code",
      "execution_count": null,
      "metadata": {},
      "outputs": [],
      "source": [
       "# Test empty query\n",
       "try:\n",
       "    result = sample_df.sql.query(\"\")\n",
       "except ValueError as e:\n",
       "    print(f\"Empty query error: {e}\")\n",
       "\n",
       "# Test invalid table reference\n",
       "try:\n",
       "    result = sample_df.sql.query(\"SELECT * FROM nonexistent_table\")\n",
       "except RuntimeError as e:\n",
       "    print(f\"Invalid table error: {e}\")\n",
       "\n",
       "# Test invalid env parameter\n",
       "try:\n",
       "    result = sample_df.sql.query(\"SELECT * FROM df\", env=\"not_a_dict\")\n",
       "except TypeError as e:\n",
       "    print(f\"Invalid env type error: {e}\")"
      ]
     },
     {
      "cell_type": "markdown",
      "metadata": {},
      "source": [
       "## Summary\n",
       "\n",
       "The SQL accessor in SuperPandas provides a powerful way to query pandas DataFrames using familiar SQL syntax. Key features include:\n",
       "\n",
       "- **In-memory SQLite database** for fast queries\n",
       "- **Multiple table support** via the `env` parameter\n",
       "- **Full SQL support** including SELECT, WHERE, JOIN, GROUP BY, etc.\n",
       "- **Type safety** with proper error handling\n",
       "- **Custom database URIs** for persistent storage\n",
       "- **Seamless integration** with existing SuperDataFrame functionality\n",
       "\n",
       "The SQL accessor is automatically registered when you import SuperPandas, making it available on all pandas DataFrames in your environment."
      ]
     }
    ],
    "metadata": {
     "kernelspec": {
      "display_name": "Python 3",
      "language": "python",
      "name": "python3"
     },
     "language_info": {
      "codemirror_mode": {
       "name": "ipython",
       "version": 3
      },
      "file_extension": ".py",
      "mimetype": "text/x-python",
      "name": "python",
      "nbconvert_exporter": "python",
      "pygments_lexer": "ipython3",
      "version": "3.8.5"
     }
    },
    "nbformat": 4,
    "nbformat_minor": 4
   }