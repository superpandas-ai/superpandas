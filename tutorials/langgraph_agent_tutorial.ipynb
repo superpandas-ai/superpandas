{
  "cells": [
    {
      "cell_type": "raw",
      "metadata": {
        "vscode": {
          "languageId": "raw"
        }
      },
      "source": [
        "# LangGraph Agent Tutorial\n",
        "\n",
        "This notebook demonstrates the LangGraph agent functionality in SuperPandas. The agent can:\n",
        "- Generate and execute Python code from natural language queries\n",
        "- Handle errors and provide suggestions for fixes\n",
        "- Format results into user-friendly responses\n",
        "- Create visualizations and complex analyses\n"
      ]
    },
    {
      "cell_type": "code",
      "execution_count": null,
      "metadata": {},
      "outputs": [],
      "source": [
        "# Import required libraries\n",
        "import pandas as pd\n",
        "import numpy as np\n",
        "import superpandas as spd\n",
        "import matplotlib.pyplot as plt\n",
        "\n",
        "# Create a sample DataFrame\n",
        "data = {\n",
        "    'name': ['Alice', 'Bob', 'Charlie', 'Diana', 'Eve'],\n",
        "    'age': [25, 30, 35, 28, 32],\n",
        "    'salary': [50000, 60000, 75000, 55000, 70000],\n",
        "    'department': ['Engineering', 'Marketing', 'Engineering', 'Sales', 'Engineering']\n",
        "}\n",
        "\n",
        "df = pd.DataFrame(data)\n",
        "\n",
        "# Add metadata using SuperPandas\n",
        "df.super.name = \"Employee Data\"\n",
        "df.super.description = \"Sample employee data with names, ages, salaries, and departments\"\n",
        "df.super.set_column_descriptions({\n",
        "    'name': 'Employee name',\n",
        "    'age': 'Employee age in years',\n",
        "    'salary': 'Annual salary in USD',\n",
        "    'department': 'Employee department'\n",
        "})\n",
        "\n",
        "print(\"DataFrame created with metadata:\")\n",
        "print(f\"Name: {df.super.name}\")\n",
        "print(f\"Description: {df.super.description}\")\n",
        "print(\"\\nData:\")\n",
        "print(df)\n"
      ]
    },
    {
      "cell_type": "raw",
      "metadata": {
        "vscode": {
          "languageId": "raw"
        }
      },
      "source": [
        "## Example 1: Basic Analysis\n",
        "\n",
        "Let's start with a simple analysis to show the first few rows of our DataFrame.\n"
      ]
    },
    {
      "cell_type": "code",
      "execution_count": null,
      "metadata": {},
      "outputs": [],
      "source": [
        "# Example 1: Basic analysis\n",
        "print(\"Query: Show the first 3 rows\")\n",
        "\n",
        "result = df.super.analyze_with_agent(\n",
        "    query=\"Show the first 3 rows\",\n",
        "    max_iterations=2\n",
        ")\n",
        "\n",
        "print(\"\\nAgent Result:\")\n",
        "print(f\"Generated Code:\\n{result.get('generated_code', 'N/A')}\")\n",
        "print(f\"\\nResult:\\n{result.get('result', 'N/A')}\")\n",
        "print(f\"\\nFormatted Response:\\n{result.get('formatted_response', 'N/A')}\")\n"
      ]
    },
    {
      "cell_type": "raw",
      "metadata": {
        "vscode": {
          "languageId": "raw"
        }
      },
      "source": [
        "## Example 2: Statistical Analysis\n",
        "\n",
        "Now let's perform some statistical analysis on our data. We'll calculate average salaries.\n"
      ]
    },
    {
      "cell_type": "code",
      "execution_count": null,
      "metadata": {},
      "outputs": [],
      "source": [
        "# Example 2: Statistical analysis\n",
        "print(\"Query: Calculate the average salary by department\")\n",
        "\n",
        "result = df.super.analyze_with_agent(\n",
        "    query=\"Calculate the average salary by department\",\n",
        "    max_iterations=3\n",
        ")\n",
        "\n",
        "print(\"\\nAgent Result:\")\n",
        "print(f\"Generated Code:\\n{result.get('generated_code', 'N/A')}\")\n",
        "print(f\"\\nResult:\\n{result.get('result', 'N/A')}\")\n",
        "print(f\"\\nFormatted Response:\\n{result.get('formatted_response', 'N/A')}\")\n"
      ]
    },
    {
      "cell_type": "raw",
      "metadata": {
        "vscode": {
          "languageId": "raw"
        }
      },
      "source": [
        "## Example 3: Data Visualization\n",
        "\n",
        "The agent can also create visualizations. Let's create a bar chart showing average age by department.\n"
      ]
    },
    {
      "cell_type": "code",
      "execution_count": null,
      "metadata": {},
      "outputs": [],
      "source": [
        "# Example 3: Visualization\n",
        "print(\"Query: Create a bar chart of average age by department\")\n",
        "\n",
        "result = df.super.analyze_with_agent(\n",
        "    query=\"Create a bar chart of average age by department\",\n",
        "    max_iterations=3\n",
        ")\n",
        "\n",
        "print(\"\\nAgent Result:\")\n",
        "print(f\"Generated Code:\\n{result.get('generated_code', 'N/A')}\")\n",
        "print(f\"\\nResult:\\n{result.get('result', 'N/A')}\")\n",
        "print(f\"\\nFormatted Response:\\n{result.get('formatted_response', 'N/A')}\")\n",
        "\n",
        "if result.get('fig'):\n",
        "    plt.show()\n"
      ]
    },
    {
      "cell_type": "raw",
      "metadata": {
        "vscode": {
          "languageId": "raw"
        }
      },
      "source": [
        "## Example 4: Complex Analysis\n",
        "\n",
        "Finally, let's perform a more complex analysis that combines multiple conditions.\n"
      ]
    },
    {
      "cell_type": "code",
      "execution_count": null,
      "metadata": {},
      "outputs": [],
      "source": [
        "# Example 4: Complex analysis\n",
        "print(\"Query: Find employees with salary above the median and age below 30\")\n",
        "\n",
        "result = df.super.analyze_with_agent(\n",
        "    query=\"Find employees with salary above the median and age below 30\",\n",
        "    max_iterations=3\n",
        ")\n",
        "\n",
        "print(\"\\nAgent Result:\")\n",
        "print(f\"Generated Code:\\n{result.get('generated_code', 'N/A')}\")\n",
        "print(f\"\\nResult:\\n{result.get('result', 'N/A')}\")\n",
        "print(f\"\\nFormatted Response:\\n{result.get('formatted_response', 'N/A')}\")\n"
      ]
    },
    {
      "cell_type": "raw",
      "metadata": {
        "vscode": {
          "languageId": "raw"
        }
      },
      "source": [
        "## Direct Agent Usage\n",
        "\n",
        "You can also use the LangGraph agent directly without going through the SuperDataFrame accessor. This is useful when you want more control over the agent's behavior.\n"
      ]
    },
    {
      "cell_type": "code",
      "execution_count": null,
      "metadata": {},
      "outputs": [],
      "source": [
        "# Direct agent usage example\n",
        "from superpandas.langgraph_agent import run_agent\n",
        "\n",
        "print(\"Query: Find the highest paid employee in each department\")\n",
        "\n",
        "result = run_agent(\n",
        "    query=\"Find the highest paid employee in each department\",\n",
        "    dataframe=df,\n",
        "    max_iterations=3\n",
        ")\n",
        "\n",
        "print(\"\\nAgent Result:\")\n",
        "print(f\"Generated Code:\\n{result.get('generated_code', 'N/A')}\")\n",
        "print(f\"\\nResult:\\n{result.get('result', 'N/A')}\")\n",
        "print(f\"\\nFormatted Response:\\n{result.get('formatted_response', 'N/A')}\")\n"
      ]
    },
    {
      "cell_type": "raw",
      "metadata": {
        "vscode": {
          "languageId": "raw"
        }
      },
      "source": [
        "## Error Handling Example\n",
        "\n",
        "The agent can handle errors gracefully and provide suggestions for fixes. Let's try a query that might cause an error.\n"
      ]
    },
    {
      "cell_type": "code",
      "execution_count": null,
      "metadata": {},
      "outputs": [],
      "source": [
        "# Error handling example\n",
        "print(\"Query: Calculate the percentage of total salary for a non-existent column\")\n",
        "\n",
        "result = df.super.analyze_with_agent(\n",
        "    query=\"Calculate the percentage of total bonus for each employee\",\n",
        "    max_iterations=3\n",
        ")\n",
        "\n",
        "print(\"\\nAgent Result:\")\n",
        "print(f\"Generated Code:\\n{result.get('generated_code', 'N/A')}\")\n",
        "print(f\"\\nError:\\n{result.get('error', 'N/A')}\")\n",
        "print(f\"\\nFormatted Response:\\n{result.get('formatted_response', 'N/A')}\")\n"
      ]
    },
    {
      "cell_type": "raw",
      "metadata": {
        "vscode": {
          "languageId": "raw"
        }
      },
      "source": [
        "## Conclusion\n",
        "\n",
        "The LangGraph agent in SuperPandas provides a powerful way to analyze data using natural language queries. It can:\n",
        "\n",
        "1. Generate and execute Python code automatically\n",
        "2. Create visualizations\n",
        "3. Handle complex analyses\n",
        "4. Provide clear explanations of results\n",
        "5. Handle errors gracefully with suggestions for fixes\n",
        "\n",
        "For more information, check out the [SuperPandas documentation](https://github.com/superpandas-ai/superpandas).\n"
      ]
    }
  ],
  "metadata": {
    "language_info": {
      "name": "python"
    }
  },
  "nbformat": 4,
  "nbformat_minor": 2
}
